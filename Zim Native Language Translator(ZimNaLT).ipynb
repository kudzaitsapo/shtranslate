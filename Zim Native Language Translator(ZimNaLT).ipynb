{
 "cells": [
  {
   "cell_type": "markdown",
   "metadata": {},
   "source": [
    "## Zimbabwe Native Language translator Project\n",
    "\n",
    "#### Aims of the project:\n",
    "* To create an environment where native languages in Zimbabwe can be translated.\n",
    "* To help foster effective communication between local travellers going to other regions.\n",
    "* To eradicate language barriers in effective communication in the local communities.\n",
    "\n",
    "## Why this project?\n",
    "#### This project is supposed to address the problems listed below:\n",
    "- In Zimbabwe there are various students that apply at local universities which are in different regions. Because of the difference in the regions, there are often communication issues arising from difference in languages.\n",
    "- The vastness of the Zimbabwean country means there are people of different tribes, clans and dynasties etc. and this leads to ineffectual communication.\n",
    "\n",
    "\n",
    "The project targets travellers as well as students.\n"
   ]
  },
  {
   "cell_type": "code",
   "execution_count": null,
   "metadata": {
    "collapsed": true
   },
   "outputs": [],
   "source": [
    "# Imports are arranged here\n"
   ]
  }
 ],
 "metadata": {
  "anaconda-cloud": {},
  "kernelspec": {
   "display_name": "Python [conda root]",
   "language": "python",
   "name": "conda-root-py"
  },
  "language_info": {
   "codemirror_mode": {
    "name": "ipython",
    "version": 3
   },
   "file_extension": ".py",
   "mimetype": "text/x-python",
   "name": "python",
   "nbconvert_exporter": "python",
   "pygments_lexer": "ipython3",
   "version": "3.5.2"
  }
 },
 "nbformat": 4,
 "nbformat_minor": 1
}
